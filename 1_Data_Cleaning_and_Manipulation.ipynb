{
  "cells": [
    {
      "cell_type": "markdown",
      "metadata": {
        "id": "view-in-github",
        "colab_type": "text"
      },
      "source": [
        "<a href=\"https://colab.research.google.com/github/susmitds/Amazon_Market_Data_Analytics/blob/main/1_Data_Cleaning_and_Manipulation.ipynb\" target=\"_parent\"><img src=\"https://colab.research.google.com/assets/colab-badge.svg\" alt=\"Open In Colab\"/></a>"
      ]
    },
    {
      "cell_type": "code",
      "execution_count": 1,
      "id": "7c271e03",
      "metadata": {
        "id": "7c271e03"
      },
      "outputs": [],
      "source": [
        "import warnings\n",
        "warnings.filterwarnings('ignore')\n",
        "import numpy as np\n",
        "import pandas as pd\n",
        "import matplotlib.pyplot as plt\n",
        "import seaborn as sns\n",
        "import random"
      ]
    },
    {
      "cell_type": "code",
      "execution_count": 2,
      "id": "d895876e",
      "metadata": {
        "id": "d895876e"
      },
      "outputs": [],
      "source": [
        "data=pd.read_excel('D:/Workspace/Projects/MarketDataAnalytics/MData.xlsx')"
      ]
    },
    {
      "cell_type": "code",
      "execution_count": 3,
      "id": "2e5077bc",
      "metadata": {
        "id": "2e5077bc"
      },
      "outputs": [],
      "source": [
        "data['Shipping charges']=data['Shipping charges'].fillna(0)\n",
        "data['Seller Address (City)']=data['Seller Address (City)'].fillna(data['Shipping Address (City)'])\n",
        "data['Mode of payment']=data['Mode of payment'].fillna('CoD')\n",
        "data['Gender of Customer']=data['Gender of Customer'].fillna('F')\n",
        "data['Quantity']=data['Quantity'].fillna(1)\n",
        "data['Prime membership']=data['Prime membership'].fillna('No')\n",
        "data['Age']=data['Age'].fillna(random.randint(22,28))"
      ]
    },
    {
      "cell_type": "code",
      "execution_count": 4,
      "id": "c3dede91",
      "metadata": {
        "id": "c3dede91"
      },
      "outputs": [],
      "source": [
        "data.drop(\"Unnamed: 0\", axis=1, inplace=True)\n",
        "data.dropna(inplace = True)"
      ]
    },
    {
      "cell_type": "code",
      "execution_count": 5,
      "id": "0931d1d4",
      "metadata": {
        "colab": {
          "base_uri": "https://localhost:8080/",
          "height": 206
        },
        "id": "0931d1d4",
        "outputId": "e9d42589-c585-459a-bacf-bf32b195547e"
      },
      "outputs": [
        {
          "output_type": "execute_result",
          "data": {
            "text/plain": [
              "         Date                          Product Name             Brand  \\\n",
              "0  28.10.2022  Camlin Kokuyo White Board Marker Ink            Camlin   \n",
              "1  23.10.2022                   Men's Shoes (Black)            Adidas   \n",
              "2  21.10.2022                          Water Bottle            Milton   \n",
              "3  21.10.2022                           Conditioner  Head & Shoulders   \n",
              "4  21.10.2022                              Suitcase         Kamiliant   \n",
              "\n",
              "  Category of product Quantity Unit Price Shipping charges Total Amount  \\\n",
              "0          Stationery        3      31.24                0          105   \n",
              "1            Footwear        1    1211.02                0         1429   \n",
              "2             Utensil        1     702.86                0          738   \n",
              "3           Body Care        1        127                0          150   \n",
              "4                Bags        1       1778                0         2099   \n",
              "\n",
              "  Billing Address (City) Seller Address (City) Shipping Address (City)  \\\n",
              "0              Bangalore             Bangalore               Bangalore   \n",
              "1                Saharsa             Bangalore                  Purnia   \n",
              "2              Bangalore                 Delhi               Bangalore   \n",
              "3              Bangalore                 Thane               Bangalore   \n",
              "4                 Purnia                 Thane                  Purnia   \n",
              "\n",
              "  Gender of Customer Age Mode of payment Prime membership  \n",
              "0               Male  24             UPI              Yes  \n",
              "1               Male  51             UPI              Yes  \n",
              "2               Male  24             UPI              Yes  \n",
              "3               Male  24             UPI              Yes  \n",
              "4               Male  27             UPI              Yes  "
            ],
            "text/html": [
              "<div>\n",
              "<style scoped>\n",
              "    .dataframe tbody tr th:only-of-type {\n",
              "        vertical-align: middle;\n",
              "    }\n",
              "\n",
              "    .dataframe tbody tr th {\n",
              "        vertical-align: top;\n",
              "    }\n",
              "\n",
              "    .dataframe thead th {\n",
              "        text-align: right;\n",
              "    }\n",
              "</style>\n",
              "<table border=\"1\" class=\"dataframe\">\n",
              "  <thead>\n",
              "    <tr style=\"text-align: right;\">\n",
              "      <th></th>\n",
              "      <th>Date</th>\n",
              "      <th>Product Name</th>\n",
              "      <th>Brand</th>\n",
              "      <th>Category of product</th>\n",
              "      <th>Quantity</th>\n",
              "      <th>Unit Price</th>\n",
              "      <th>Shipping charges</th>\n",
              "      <th>Total Amount</th>\n",
              "      <th>Billing Address (City)</th>\n",
              "      <th>Seller Address (City)</th>\n",
              "      <th>Shipping Address (City)</th>\n",
              "      <th>Gender of Customer</th>\n",
              "      <th>Age</th>\n",
              "      <th>Mode of payment</th>\n",
              "      <th>Prime membership</th>\n",
              "    </tr>\n",
              "  </thead>\n",
              "  <tbody>\n",
              "    <tr>\n",
              "      <th>0</th>\n",
              "      <td>28.10.2022</td>\n",
              "      <td>Camlin Kokuyo White Board Marker Ink</td>\n",
              "      <td>Camlin</td>\n",
              "      <td>Stationery</td>\n",
              "      <td>3</td>\n",
              "      <td>31.24</td>\n",
              "      <td>0</td>\n",
              "      <td>105</td>\n",
              "      <td>Bangalore</td>\n",
              "      <td>Bangalore</td>\n",
              "      <td>Bangalore</td>\n",
              "      <td>Male</td>\n",
              "      <td>24</td>\n",
              "      <td>UPI</td>\n",
              "      <td>Yes</td>\n",
              "    </tr>\n",
              "    <tr>\n",
              "      <th>1</th>\n",
              "      <td>23.10.2022</td>\n",
              "      <td>Men's Shoes (Black)</td>\n",
              "      <td>Adidas</td>\n",
              "      <td>Footwear</td>\n",
              "      <td>1</td>\n",
              "      <td>1211.02</td>\n",
              "      <td>0</td>\n",
              "      <td>1429</td>\n",
              "      <td>Saharsa</td>\n",
              "      <td>Bangalore</td>\n",
              "      <td>Purnia</td>\n",
              "      <td>Male</td>\n",
              "      <td>51</td>\n",
              "      <td>UPI</td>\n",
              "      <td>Yes</td>\n",
              "    </tr>\n",
              "    <tr>\n",
              "      <th>2</th>\n",
              "      <td>21.10.2022</td>\n",
              "      <td>Water Bottle</td>\n",
              "      <td>Milton</td>\n",
              "      <td>Utensil</td>\n",
              "      <td>1</td>\n",
              "      <td>702.86</td>\n",
              "      <td>0</td>\n",
              "      <td>738</td>\n",
              "      <td>Bangalore</td>\n",
              "      <td>Delhi</td>\n",
              "      <td>Bangalore</td>\n",
              "      <td>Male</td>\n",
              "      <td>24</td>\n",
              "      <td>UPI</td>\n",
              "      <td>Yes</td>\n",
              "    </tr>\n",
              "    <tr>\n",
              "      <th>3</th>\n",
              "      <td>21.10.2022</td>\n",
              "      <td>Conditioner</td>\n",
              "      <td>Head &amp; Shoulders</td>\n",
              "      <td>Body Care</td>\n",
              "      <td>1</td>\n",
              "      <td>127</td>\n",
              "      <td>0</td>\n",
              "      <td>150</td>\n",
              "      <td>Bangalore</td>\n",
              "      <td>Thane</td>\n",
              "      <td>Bangalore</td>\n",
              "      <td>Male</td>\n",
              "      <td>24</td>\n",
              "      <td>UPI</td>\n",
              "      <td>Yes</td>\n",
              "    </tr>\n",
              "    <tr>\n",
              "      <th>4</th>\n",
              "      <td>21.10.2022</td>\n",
              "      <td>Suitcase</td>\n",
              "      <td>Kamiliant</td>\n",
              "      <td>Bags</td>\n",
              "      <td>1</td>\n",
              "      <td>1778</td>\n",
              "      <td>0</td>\n",
              "      <td>2099</td>\n",
              "      <td>Purnia</td>\n",
              "      <td>Thane</td>\n",
              "      <td>Purnia</td>\n",
              "      <td>Male</td>\n",
              "      <td>27</td>\n",
              "      <td>UPI</td>\n",
              "      <td>Yes</td>\n",
              "    </tr>\n",
              "  </tbody>\n",
              "</table>\n",
              "</div>"
            ]
          },
          "metadata": {},
          "execution_count": 5
        }
      ],
      "source": [
        "data.head()"
      ]
    },
    {
      "cell_type": "code",
      "execution_count": 6,
      "id": "3b4a957f",
      "metadata": {
        "colab": {
          "base_uri": "https://localhost:8080/"
        },
        "id": "3b4a957f",
        "outputId": "f7fed54a-d3e9-4acd-c201-0e732785d35d"
      },
      "outputs": [
        {
          "output_type": "stream",
          "name": "stdout",
          "text": [
            "<class 'pandas.core.frame.DataFrame'>\n",
            "Int64Index: 4060 entries, 0 to 5346\n",
            "Data columns (total 15 columns):\n",
            " #   Column                   Non-Null Count  Dtype \n",
            "---  ------                   --------------  ----- \n",
            " 0   Date                     4060 non-null   object\n",
            " 1   Product Name             4060 non-null   object\n",
            " 2   Brand                    4060 non-null   object\n",
            " 3   Category of product      4060 non-null   object\n",
            " 4   Quantity                 4060 non-null   object\n",
            " 5   Unit Price               4060 non-null   object\n",
            " 6   Shipping charges         4060 non-null   object\n",
            " 7   Total Amount             4060 non-null   object\n",
            " 8   Billing Address (City)   4060 non-null   object\n",
            " 9   Seller Address (City)    4060 non-null   object\n",
            " 10  Shipping Address (City)  4060 non-null   object\n",
            " 11  Gender of Customer       4060 non-null   object\n",
            " 12  Age                      4060 non-null   object\n",
            " 13  Mode of payment          4060 non-null   object\n",
            " 14  Prime membership         4060 non-null   object\n",
            "dtypes: object(15)\n",
            "memory usage: 507.5+ KB\n"
          ]
        }
      ],
      "source": [
        "data.info()"
      ]
    },
    {
      "cell_type": "code",
      "execution_count": 7,
      "id": "5b2abfd0",
      "metadata": {
        "scrolled": true,
        "colab": {
          "base_uri": "https://localhost:8080/"
        },
        "id": "5b2abfd0",
        "outputId": "5b7a18b7-6463-4469-93d0-6f273020b887"
      },
      "outputs": [
        {
          "output_type": "execute_result",
          "data": {
            "text/plain": [
              "Index(['Date', 'Product Name', 'Brand', 'Category of product', 'Quantity',\n",
              "       'Unit Price', 'Shipping charges', 'Total Amount',\n",
              "       'Billing Address (City)', 'Seller Address (City)',\n",
              "       'Shipping Address (City)', 'Gender of Customer', 'Age',\n",
              "       'Mode of payment', 'Prime membership'],\n",
              "      dtype='object')"
            ]
          },
          "metadata": {},
          "execution_count": 7
        }
      ],
      "source": [
        "data.columns"
      ]
    },
    {
      "cell_type": "code",
      "execution_count": 8,
      "id": "603e9182",
      "metadata": {
        "id": "603e9182"
      },
      "outputs": [],
      "source": [
        "data.columns=['Date', 'Product', 'Brand', 'Category', 'Quantity', 'Unit Price', 'Shipping Charges', 'Total Price',\n",
        "       'Billing Address', 'Seller Address', 'Shipping Address','Gender', 'Age', 'Mode', 'Prime']"
      ]
    },
    {
      "cell_type": "code",
      "execution_count": 9,
      "id": "fb63f56d",
      "metadata": {
        "scrolled": true,
        "id": "fb63f56d"
      },
      "outputs": [],
      "source": [
        "numericals=['Quantity','Unit Price', 'Shipping Charges', 'Total Price', 'Age']\n",
        "data[numericals]=data[numericals].apply(pd.to_numeric, errors='coerce')\n",
        "data.dropna(inplace = True)"
      ]
    },
    {
      "cell_type": "code",
      "execution_count": 10,
      "id": "7778948e",
      "metadata": {
        "colab": {
          "base_uri": "https://localhost:8080/"
        },
        "id": "7778948e",
        "outputId": "2ec8ff90-184a-4c8b-de6d-90e44acadf5b"
      },
      "outputs": [
        {
          "output_type": "stream",
          "name": "stdout",
          "text": [
            "<class 'pandas.core.frame.DataFrame'>\n",
            "Int64Index: 2997 entries, 0 to 5311\n",
            "Data columns (total 15 columns):\n",
            " #   Column            Non-Null Count  Dtype  \n",
            "---  ------            --------------  -----  \n",
            " 0   Date              2997 non-null   object \n",
            " 1   Product           2997 non-null   object \n",
            " 2   Brand             2997 non-null   object \n",
            " 3   Category          2997 non-null   object \n",
            " 4   Quantity          2997 non-null   float64\n",
            " 5   Unit Price        2997 non-null   float64\n",
            " 6   Shipping Charges  2997 non-null   float64\n",
            " 7   Total Price       2997 non-null   float64\n",
            " 8   Billing Address   2997 non-null   object \n",
            " 9   Seller Address    2997 non-null   object \n",
            " 10  Shipping Address  2997 non-null   object \n",
            " 11  Gender            2997 non-null   object \n",
            " 12  Age               2997 non-null   float64\n",
            " 13  Mode              2997 non-null   object \n",
            " 14  Prime             2997 non-null   object \n",
            "dtypes: float64(5), object(10)\n",
            "memory usage: 374.6+ KB\n"
          ]
        }
      ],
      "source": [
        "data.info()"
      ]
    },
    {
      "cell_type": "code",
      "execution_count": 11,
      "id": "ca258f71",
      "metadata": {
        "colab": {
          "base_uri": "https://localhost:8080/"
        },
        "id": "ca258f71",
        "outputId": "cf37f7de-f487-4a2d-ae7c-72b6af3c7457"
      },
      "outputs": [
        {
          "output_type": "execute_result",
          "data": {
            "text/plain": [
              "array(['Male', 'Female', 'male', 'Female ', 'F ', 'Male\\xa0'],\n",
              "      dtype=object)"
            ]
          },
          "metadata": {},
          "execution_count": 11
        }
      ],
      "source": [
        "data['Gender'].unique()"
      ]
    },
    {
      "cell_type": "code",
      "execution_count": 12,
      "id": "7d811e77",
      "metadata": {
        "id": "7d811e77"
      },
      "outputs": [],
      "source": [
        "data['Gender']=data['Gender'].apply(lambda x: 'M' if x in ['Male', 'Male\\xa0'] else 'F')"
      ]
    },
    {
      "cell_type": "code",
      "execution_count": 13,
      "id": "540a5e46",
      "metadata": {
        "scrolled": false,
        "colab": {
          "base_uri": "https://localhost:8080/"
        },
        "id": "540a5e46",
        "outputId": "65bf9f1f-f88e-428b-9b28-b80c045c53fb"
      },
      "outputs": [
        {
          "output_type": "execute_result",
          "data": {
            "text/plain": [
              "array(['Stationery', 'Footwear', 'Utensil', 'Body Care', 'Bags',\n",
              "       'Bodycare', 'Sports', 'Accessory', 'Electronics', 'Plant',\n",
              "       'Smartphone', 'Exercise', 'Apparel', 'Book', 'Fashion',\n",
              "       'Self Care', 'Cookware', 'Edible', 'Gift', 'Colour', 'Haircare',\n",
              "       'Hygiene', 'Home Accessories', 'Furniture', 'Safety gear', 'Books',\n",
              "       'Smart speaker', 'Home improvement', 'Shampoo and Conditioners',\n",
              "       'Beauty', 'Gardening Handscape', 'Jewellery', 'Watches',\n",
              "       'PC gaming', 'Personal Hygiene', 'Helmets', 'Laptop accessories',\n",
              "       \"Men's Wallets, Card Cases & Money Organisers\", 'Clothing',\n",
              "       'Organisers', 'personal Hygiene', 'Backpacks',\n",
              "       'Mobile accessories', 'Healthcare', 'electricals',\n",
              "       'Kitchen and Home', 'kitchen and Home', 'Travel',\n",
              "       'Household supplies', 'household supplies', 'Sporting',\n",
              "       'Latop Accesories', 'Baggage', 'medical', 'Bike accessories',\n",
              "       'Camera accessories', 'Computer Accessories',\n",
              "       'computer Accessories', 'bagpacks', 'CAMera accessories',\n",
              "       'Home Decor', 'electronics', 'Stationary', 'clothing',\n",
              "       'clothing accessories', 'electronic accessories',\n",
              "       'electronics accessories', 'healthcare', 'home', 'Eyewear',\n",
              "       'Accessories', 'Bottle', 'Food', 'Mobile', 'Supplement',\n",
              "       'Pet Supplies', 'Home Appliances', 'Health and Personal Care',\n",
              "       'Car and MotorBike', 'Sports, Fitness and Outdoors',\n",
              "       'Home and Kitchen', 'Toys and Games', 'Shoes and Handbags',\n",
              "       'Bags, Wallets and Luggage', 'Software',\n",
              "       'Computer and Accessories', 'Industrial and Scientific',\n",
              "       'Grocery and Gourmet Foods', 'Outdoor Living', 'Shoes and Bags',\n",
              "       'Home Improvement', 'Clothing and Accessories',\n",
              "       'Car and Motorbike', 'Utencil', 'Decoration', 'Makeup', 'Utencils',\n",
              "       'Beauty ', 'book', 'safety', 'smartphone', 'apparrel', 'footwear',\n",
              "       'stationary', 'food', 'home esentials', 'home essentials', 'bags',\n",
              "       'hygiene', 'beauty', 'accessory', 'sports', 'self care',\n",
              "       'phone cover', 'fashion', 'Safety', 'Education', 'Cosmetic',\n",
              "       'Safety ', 'Child', 'Audio ', 'Textile', 'Electronic',\n",
              "       'Home Appliance', 'Health Care', 'Utilities', 'Medical', 'Sport',\n",
              "       'Gifts', 'Storage', 'Games', 'Utility', 'Toy', 'Lifestyle', 'toy',\n",
              "       'Equipment', 'Fitness', 'Kitchen Appliances', 'Bedding',\n",
              "       'Body care', 'Grocery', 'Food ', 'Clothing and Accessories ',\n",
              "       'Sports, Fitness and Outdoor', 'Office Supplies', 'Toys and games',\n",
              "       'Luggage and Bags ', 'Grocery and Gourmet', 'Office Products',\n",
              "       'Amazon Devices', 'Musical Instruments', 'Amazon Fashion',\n",
              "       'Tools and Home Impovement', 'Clothing Accessories', 'Fashion ',\n",
              "       'Kitchen', 'Money ', 'Stationary ', 'Gymnasium ', 'BodyCare',\n",
              "       'body care', 'book ', 'fashion ', 'Eletronics', 'Recharge',\n",
              "       'Recharge ', 'Book ', 'Home Appliances ', 'Music', 'Personal Care',\n",
              "       'Giftcard', 'Kitchen ', 'Personal ', 'Cosmetics', 'Supplements',\n",
              "       'Musical Instrument', 'Electrical Appliance', 'Hair Care',\n",
              "       'Sports accessories', 'Groceries', 'Travel accessories',\n",
              "       'Home and Décor', 'Electronics accessories', 'Electroics',\n",
              "       'Kitchen items and appliances', 'Health and Wellbeing',\n",
              "       'Beauty and Body Care', 'Automobile accessories', 'Toys',\n",
              "       'Fashion and Clothing', ' Electronics accessories',\n",
              "       'Pet accessories', 'Belt', 'kitchen appliance', 'Electrical',\n",
              "       'stationery', 'Entertainment', 'personal care', 'supplement',\n",
              "       'animal food', 'electrical', 'toys', 'apparel', 'home appliance',\n",
              "       'foot wear', 'home appliances', 'Household', 'Pet Food', 'Foods',\n",
              "       'Instrument', 'Eletrical', 'Cutlery', 'Utensils', 'Kitchenware',\n",
              "       'Jewelry', 'FootWear', 'Personal care', 'Medicine', 'LifeStyle',\n",
              "       'Dog Food', 'Cycle', 'Clothes', 'Home accessories',\n",
              "       'Car Accessories', 'Electrical Equipment', 'Gym Equipment',\n",
              "       'Kitchen Equipment', 'Health & Personal Care', 'Luggage & Bags',\n",
              "       'books', 'Personnel Care'], dtype=object)"
            ]
          },
          "metadata": {},
          "execution_count": 13
        }
      ],
      "source": [
        "data['Category'].unique()"
      ]
    },
    {
      "cell_type": "code",
      "execution_count": 14,
      "id": "d3c67f94",
      "metadata": {
        "id": "d3c67f94"
      },
      "outputs": [],
      "source": [
        "data['Category']=data['Category'].apply(lambda x: 'Electronics' if x in ['Electronics', 'Eletronics', 'phone cover', 'Music', ' Electronics accessories', 'electronics', 'Electronic', 'Smartphone', 'Smart speaker', 'smartphone', 'Computer and Accessories', 'PC gaming', 'Electroics', 'Mobile accessories', 'Electronics accessories', 'Amazon Devices', 'electronic accessories', 'electronics accessories', 'Laptop accessories', 'Latop Accesories', 'Bike accessories', 'Camera accessories', 'Computer Accessories', 'Mobile', 'Audio ', 'computer Accessories', 'CAMera accessories'] else x)"
      ]
    },
    {
      "cell_type": "code",
      "execution_count": 15,
      "id": "b68bc137",
      "metadata": {
        "id": "b68bc137"
      },
      "outputs": [],
      "source": [
        "data['Category']=data['Category'].apply(lambda x: 'Clothing and Fashion' if x in ['apparrel', 'footwear', 'Beauty ', 'fashion ', 'Beauty', 'Helmets', 'apparel', 'Jewellery', 'Clothing and Fashion', 'Shoes and Bags', 'Textile', 'Shoes and Handbags', 'Belt',  'Watches', 'fashion', 'Belt', 'Footwear', 'Eyewear', 'Apparel', 'Shoes and Bags', 'Fashion', 'clothing', 'clothing accessories', 'Clothing', 'Clothing and Accessories', 'Clothing and Accessories ',  'foot wear', 'Amazon Fashion', 'Clothing Accessories', 'Fashion ', 'Fashion and Clothing', 'Clothes', 'Jewelry', 'FootWear'] else x)"
      ]
    },
    {
      "cell_type": "code",
      "execution_count": 16,
      "id": "8838d7e2",
      "metadata": {
        "id": "8838d7e2"
      },
      "outputs": [],
      "source": [
        "data['Category']=data['Category'].apply(lambda x: 'Eletrical Equipment' if x in ['Electrical Equipment', 'electrical', 'Eletrical', 'Electrical Appliance', 'electricals',  'Electrical', ] else x)"
      ]
    },
    {
      "cell_type": "code",
      "execution_count": 17,
      "id": "f2e93b72",
      "metadata": {
        "id": "f2e93b72"
      },
      "outputs": [],
      "source": [
        "data['Category']=data['Category'].apply(lambda x: 'Stationeries' if x in ['Office Supplies', 'Books', 'Colour', 'stationary', 'Education', 'Book ', 'Book', 'stationery', 'Bags, Wallets and Luggage',  'book ', 'Office Products', 'Luggage and Bags ', 'bags', \"Men's Wallets, Card Cases & Money Organisers\", 'Stationeries', 'Luggage & Bags', 'Stationaries', 'Stationery', 'Bags', 'Backpacks', 'Organisers', 'Baggage', 'bagpacks', 'Stationary', 'Bottle', 'book','Industrial and Scientific', 'Toy', 'Gifts', 'Utility', 'Stationary ', 'Toys', 'books'] else x)"
      ]
    },
    {
      "cell_type": "code",
      "execution_count": 18,
      "id": "0dca3280",
      "metadata": {
        "id": "0dca3280"
      },
      "outputs": [],
      "source": [
        "data['Category']=data['Category'].apply(lambda x: 'Sports and Fitness' if x in ['Fitness', 'Sports accessories', 'Gymnasium ', 'Lifestyle', 'Outdoor Living', 'Exercise', 'Sports',  'Gym Equipment', 'Sporting', 'Sports, Fitness and Outdoors', 'sports', 'Sports, Fitness and Outdoor', 'Sport', 'Cycle'] else x)"
      ]
    },
    {
      "cell_type": "code",
      "execution_count": 19,
      "id": "8878c29c",
      "metadata": {
        "id": "8878c29c"
      },
      "outputs": [],
      "source": [
        "data['Category']=data['Category'].apply(lambda x: 'Personal Hygiene' if x in ['Cosmetic', 'Supplement', 'self care', 'medical', 'Hygiene', 'Supplements', 'Health and Wellbeing', 'Healthcare', 'healthcare', 'Health and Personal Care', 'Medical', 'supplement', 'Medicine', 'beauty', 'LifeStyle', 'Self Care', 'Personal Care', 'Hair Care', 'body care', 'Health & Personal Care', 'BodyCare', 'Personal ', 'Makeup', 'Personal care', 'personal care', 'Personnel Care', 'Personal Hygiene', 'Body Care', 'Bodycare', 'Haircare', 'personal Hygiene', 'Shampoo and Conditioners', 'Body care', 'Cosmetics', 'Beauty and Body Care', 'Personal', 'hygiene', 'Beauty and Body Care', 'Health Care'] else x)"
      ]
    },
    {
      "cell_type": "code",
      "execution_count": 20,
      "id": "7eda61d1",
      "metadata": {
        "id": "7eda61d1"
      },
      "outputs": [],
      "source": [
        "data['Category']=data['Category'].apply(lambda x: 'Home and Decor' if x in ['Home and Decor', 'Home Accessories' , 'Furniture' , 'Home improvement' , 'Gardening Handscape' , 'Kitchen and Home' , 'kitchen and Home' , 'Household supplies', 'household supplies' , 'Home Decor' , 'home' , 'Bottle' , 'Home Appliances' , 'Home and Kitchen' , 'Home Improvement' ,  'Decoration' , 'home esentials' , 'home essentials' , 'Home Appliance' ,  'Storage' , 'Equipment' , 'Tools and Home Impovement' ,  'Home Appliances ' , 'Home and Décor' , 'home appliances' , 'home appliance' , 'Household' ,  'Instrument' , 'Home accessories'] else x)"
      ]
    },
    {
      "cell_type": "code",
      "execution_count": 21,
      "id": "965c5985",
      "metadata": {
        "id": "965c5985"
      },
      "outputs": [],
      "source": [
        "data['Category']=data['Category'].apply(lambda x: 'Cookware' if x in ['Cookware', 'Utensil','Cookware','Kitchen and Home','kitchen and Home','Utencil','Utencils','Kitchen Appliances','Kitchen','Kitchen Equipment','Kitchenware','Utensils','kitchen appliance', 'Cutlery', 'Kitchen items and appliances', 'Kitchen ','Kitchen','Home and Kitchen','Cutler', 'Utencils'] else x)"
      ]
    },
    {
      "cell_type": "code",
      "execution_count": 22,
      "id": "6ab4b686",
      "metadata": {
        "id": "6ab4b686"
      },
      "outputs": [],
      "source": [
        "data['Category']=data['Category'].apply(lambda x: 'Food' if x in ['Edible' , 'Food' , 'Grocery and Gourmet Foods' ,  'food' , 'Food ' , 'Grocery and Gourmet' , 'Groceries', 'Foods'] else x)"
      ]
    },
    {
      "cell_type": "code",
      "execution_count": 23,
      "id": "40c9af76",
      "metadata": {
        "id": "40c9af76"
      },
      "outputs": [],
      "source": [
        "data['Category']=data['Category'].apply(lambda x: 'Others' if x in ['Accessory', 'Plant', 'Gift', 'Safety gear', 'Travel', 'Accessories', 'Pet Supplies', 'Car and MotorBike','Toys and Games', 'Software', 'Car and Motorbike', 'safety', 'accessory', 'Safety', 'Safety ', 'Child', 'Utilities', 'Games','toy', 'Bedding', 'Grocery', 'Toys and games', 'Musical Instruments', 'Money ', 'Recharge', 'Recharge ','Giftcard', 'Musical Instrument', 'Travel accessories','Automobile accessories', 'Pet accessories', 'Entertainment','animal food', 'toys', 'Pet Food', 'Dog Food', 'Car Accessories'] else x)"
      ]
    },
    {
      "cell_type": "code",
      "execution_count": 24,
      "id": "a379cc28",
      "metadata": {
        "id": "a379cc28"
      },
      "outputs": [],
      "source": [
        "data['Billing Address']=data['Billing Address'].apply(lambda x: np.NaN if type(x)!=str else x.lower())"
      ]
    },
    {
      "cell_type": "code",
      "execution_count": 25,
      "id": "b7942f8a",
      "metadata": {
        "id": "b7942f8a"
      },
      "outputs": [],
      "source": [
        "data['Seller Address']=data['Billing Address'].apply(lambda x: np.NaN if type(x)!=str else x.lower())"
      ]
    },
    {
      "cell_type": "code",
      "execution_count": 26,
      "id": "fe54ffe6",
      "metadata": {
        "id": "fe54ffe6"
      },
      "outputs": [],
      "source": [
        "data['Shipping Address']=data['Billing Address'].apply(lambda x: np.NaN if type(x)!=str else x.lower())"
      ]
    },
    {
      "cell_type": "code",
      "execution_count": 27,
      "id": "f8aad92e",
      "metadata": {
        "colab": {
          "base_uri": "https://localhost:8080/"
        },
        "id": "f8aad92e",
        "outputId": "552dbbbb-1cbf-4cb6-8052-6dbfe10da57a"
      },
      "outputs": [
        {
          "output_type": "stream",
          "name": "stdout",
          "text": [
            "<class 'pandas.core.frame.DataFrame'>\n",
            "Int64Index: 2769 entries, 0 to 5311\n",
            "Data columns (total 15 columns):\n",
            " #   Column            Non-Null Count  Dtype  \n",
            "---  ------            --------------  -----  \n",
            " 0   Date              2769 non-null   object \n",
            " 1   Product           2769 non-null   object \n",
            " 2   Brand             2769 non-null   object \n",
            " 3   Category          2769 non-null   object \n",
            " 4   Quantity          2769 non-null   float64\n",
            " 5   Unit Price        2769 non-null   float64\n",
            " 6   Shipping Charges  2769 non-null   float64\n",
            " 7   Total Price       2769 non-null   float64\n",
            " 8   Billing Address   2769 non-null   object \n",
            " 9   Seller Address    2769 non-null   object \n",
            " 10  Shipping Address  2769 non-null   object \n",
            " 11  Gender            2769 non-null   object \n",
            " 12  Age               2769 non-null   float64\n",
            " 13  Mode              2769 non-null   object \n",
            " 14  Prime             2769 non-null   object \n",
            "dtypes: float64(5), object(10)\n",
            "memory usage: 346.1+ KB\n"
          ]
        }
      ],
      "source": [
        "data.dropna(inplace = True)\n",
        "data.info()"
      ]
    },
    {
      "cell_type": "code",
      "execution_count": 28,
      "id": "9f45ae5a",
      "metadata": {
        "colab": {
          "base_uri": "https://localhost:8080/"
        },
        "id": "9f45ae5a",
        "outputId": "15b1e52f-5d2f-429f-87a1-a48195c7c878"
      },
      "outputs": [
        {
          "output_type": "execute_result",
          "data": {
            "text/plain": [
              "array(['bangalore', 'saharsa', 'purnia', 'jabalpur', 'bikaner', 'anand',\n",
              "       'varanasi', 'anjar', 'banswara', 'neyveli', 'noida', 'mangalore',\n",
              "       'chennai', 'navi mumbai', 'tirpur', 'new\\xa0delhi', 'bangolore',\n",
              "       'purnea', 'kota', 'gaya', 'indore', 'khargone', 'banagalore',\n",
              "       'mandsaur', 'bhubaneshwar', 'raipur', 'kharagpur', 'balaghat',\n",
              "       'paradip', 'pune', 'madras', 'nagpur', 'tarapur', 'solapur',\n",
              "       'kanpur', 'mumbai', 'unnao', 'nashik', 'parbhani', 'barshi',\n",
              "       'latur', 'daund', 'mouda', 'jalgaon,maharashtra', 'new delhi',\n",
              "       'banglore', 'prayagraj', 'kolaghat', 'sirsaganj', 'gorakhpur',\n",
              "       'hamirpur', 'charkhari', 'pratapgarh', 'singur', 'mainpuri',\n",
              "       'ghaziabad', 'kochi, kerala', 'nellore, andhra pradesh',\n",
              "       'hyderabad', 'delhi', 'ajmer, rajasthan', 'kolkata', 'gonda, up',\n",
              "       'punganur', 'bengaluru ', 'bengaluru', 'guwahati', 'kadapa',\n",
              "       'srikalahasti', 'chittoor', 'kadiri', 'rayachoti', 'tirupati',\n",
              "       'nidamarru', 'anantapur', 'gwalior', 'satna', 'bhopal', 'ranchi',\n",
              "       'hydrabad', 'chennai ', ' bengaluru karnataka 560012 india',\n",
              "       '    pune pune maharashtra 411041 india', 'assam', 'mahagma',\n",
              "       'bokaro', 'asansol', 'greater noida', 'bhilai', 'ambikapur',\n",
              "       'bastar', 'singrauli', 'siliguri', 'dhanbad', 'telangana',\n",
              "       'hajipur', 'munger', 'patna', 'jharsuguda', 'howrah', 'ahemdabad',\n",
              "       'ranhi', 'gurgaon', 'panipat', 'jamshedpur', 'katihar',\n",
              "       'baloda bazar\\xa0', 'port blair', 'bahraich', 'jogabani',\n",
              "       'aurangabad', 'lucknow, ', 'lucknow', 'khammam', 'palwancha',\n",
              "       'kothagudem', 'karimnagar', 'rajahmundry', 'vijayawada',\n",
              "       'mangaluru', 'vicarabad', 'mahoor', 'waghala', 'dichpalle',\n",
              "       'nalgonda', 'secunderabad', 'giridih', 'undrajavaram', 'rict',\n",
              "       'district', 'bhadreswar', 'garulia', 'durllabhganj', 'durgapur',\n",
              "       'berhampore', 'pathanamthitta', 'halisahar', 'bankura', 'dewas',\n",
              "       'jamnagar', 'firozabad', 'jodhpur', 'gonda', 'jhansi',\n",
              "       'shahjahanpur', 'sultanpur', 'rudrapur', 'panihati', 'trivandrum',\n",
              "       'noida ', 'jaipur', 'ahmedabad', 'gurugram', 'dehradun', 'dimapur',\n",
              "       'balod',\n",
              "       'tharun pranav plot no.d12 mvm nagar dindigul, mvm nagar dindigul dindigul, tamil nadu, 624001 in',\n",
              "       'visakhapatnam'], dtype=object)"
            ]
          },
          "metadata": {},
          "execution_count": 28
        }
      ],
      "source": [
        "data['Shipping Address'].unique()"
      ]
    },
    {
      "cell_type": "code",
      "execution_count": 29,
      "id": "c140f250",
      "metadata": {
        "id": "c140f250"
      },
      "outputs": [],
      "source": [
        "data['City Tiers (Customer)']=data['Shipping Address'].apply(lambda x: 1 if x in ['bangalore', 'chennai', 'navi mumbai', 'new\\xa0delhi', 'bangolore', 'banagalore', 'madras', 'mumbai', 'new delhi','banglore', 'hyderabad', 'delhi',  'kolkata', 'bengaluru ', 'bengaluru', 'hydrabad', 'chennai ', ' bengaluru karnataka 560012 india'] else (2 if x in ['varanasi', 'noida', 'mangalore', 'indore','bhubaneshwar', 'raipur', 'kharagpur', 'pune', 'nagpur','kanpur', 'ghaziabad', 'kochi, kerala', 'ajmer, rajasthan', 'guwahati', 'gwalior', 'bhopal', 'ranchi','    pune pune maharashtra 411041 india', 'assam', 'greater noida', 'bhilai', 'siliguri', 'dhanbad', 'patna', 'howrah', 'ahemdabad','ranhi', 'gurgaon', 'jamshedpur', 'port blair', 'aurangabad', 'lucknow, ', 'lucknow', 'rajahmundry', 'vijayawada','mangaluru', 'secunderabad',  'durgapur', 'firozabad', 'jodhpur', 'jhansi', 'trivandrum', 'noida ', 'jaipur', 'ahmedabad', 'gurugram', 'dehradun', 'visakhapatnam'] else 3))"
      ]
    },
    {
      "cell_type": "code",
      "execution_count": 30,
      "id": "82c7be35",
      "metadata": {
        "id": "82c7be35"
      },
      "outputs": [],
      "source": [
        "data['City Tiers (Seller)']=data['Seller Address'].apply(lambda x: 1 if x in ['bangalore', 'chennai', 'navi mumbai', 'new\\xa0delhi', 'bangolore', 'banagalore', 'madras', 'mumbai', 'new delhi','banglore', 'hyderabad', 'delhi',  'kolkata', 'bengaluru ', 'bengaluru', 'hydrabad', 'chennai ', ' bengaluru karnataka 560012 india'] else (2 if x in ['varanasi', 'noida', 'mangalore', 'indore','bhubaneshwar', 'raipur', 'kharagpur', 'pune', 'nagpur','kanpur', 'ghaziabad', 'kochi, kerala', 'ajmer, rajasthan', 'guwahati', 'gwalior', 'bhopal', 'ranchi','    pune pune maharashtra 411041 india', 'assam', 'greater noida', 'bhilai', 'siliguri', 'dhanbad', 'patna', 'howrah', 'ahemdabad','ranhi', 'gurgaon', 'jamshedpur', 'port blair', 'aurangabad', 'lucknow, ', 'lucknow', 'rajahmundry', 'vijayawada','mangaluru', 'secunderabad',  'durgapur', 'firozabad', 'jodhpur', 'jhansi', 'trivandrum', 'noida ', 'jaipur', 'ahmedabad', 'gurugram', 'dehradun', 'visakhapatnam'] else 3))"
      ]
    },
    {
      "cell_type": "code",
      "execution_count": 31,
      "id": "f4fd94ef",
      "metadata": {
        "colab": {
          "base_uri": "https://localhost:8080/"
        },
        "id": "f4fd94ef",
        "outputId": "e925c7d1-da50-4d16-89fc-3684c6737f29"
      },
      "outputs": [
        {
          "output_type": "execute_result",
          "data": {
            "text/plain": [
              "array(['Yes', 'No', 'yes', 'no', 'N0', 'NO', 'Yes ', 'YES', 'Y', 'N'],\n",
              "      dtype=object)"
            ]
          },
          "metadata": {},
          "execution_count": 31
        }
      ],
      "source": [
        "data['Prime'].unique()"
      ]
    },
    {
      "cell_type": "code",
      "execution_count": 32,
      "id": "5676fd49",
      "metadata": {
        "id": "5676fd49"
      },
      "outputs": [],
      "source": [
        "data['Prime']=data['Prime'].apply(lambda x: 'Yes' if x in ['Yes', 'yes', 'Yes ', 'YES', 'Y'] else 'No')"
      ]
    },
    {
      "cell_type": "code",
      "execution_count": 33,
      "id": "4c3d5e83",
      "metadata": {
        "colab": {
          "base_uri": "https://localhost:8080/"
        },
        "id": "4c3d5e83",
        "outputId": "76c23d6c-ad8c-4497-948c-8c0a34cf28d4"
      },
      "outputs": [
        {
          "output_type": "execute_result",
          "data": {
            "text/plain": [
              "array(['UPI', 'Credit Card', 'Debit Card', 'Cash', 'Giftcard', 'upi',\n",
              "       'credit card', 'cash', '.', 'Netbanking', 'DEbit Card',\n",
              "       'debit card', 'Debit card', 'giftcard', 'Upi', 'Debit', 'COD',\n",
              "       'Gift Certificate.Card', 'Gift Certificate.Card and RuPay . 6770',\n",
              "       'MasterCard . 2043', 'RuPay . 6770', 'CoD', 'MasterCard . 2513',\n",
              "       'Gift Card.Credit\\nCard', 'AmazonPay', 'paybalance', 'cod',\n",
              "       'pay later', 'Online', 'Amazon Pay Later', 'UPI ', 'RuPay . 2032',\n",
              "       'MasterCard . 2825', 'Gift Certificate.Card and RuPay . 2032',\n",
              "       'Gift Certificate.Card and MasterCard . 1238', 'MasterCard . 6523',\n",
              "       'Gift Certificate.Card and Visa . 9069',\n",
              "       'Gift Certificate.Card and MasterCard . 9824', 'MasterCard . 9824',\n",
              "       'Gift Certificate.Card and Visa . 4745', 'MasterCard . 1238',\n",
              "       'Visa . 7538', 'Visa . 4745',\n",
              "       'Gift Certificate.Card and Visa . 7538', 'Gift Card',\n",
              "       'Replacement', 'Card Payment', 'Amazon Credit', 'Credit card',\n",
              "       'gift card', 'AmazonCredit', 'GiftCard', 'Debit Debit Card',\n",
              "       'Card', 'Gift card'], dtype=object)"
            ]
          },
          "metadata": {},
          "execution_count": 33
        }
      ],
      "source": [
        "data['Mode'].unique()"
      ]
    },
    {
      "cell_type": "code",
      "execution_count": 34,
      "id": "4c23acef",
      "metadata": {
        "id": "4c23acef"
      },
      "outputs": [],
      "source": [
        "data['Mode']=data['Mode'].apply(lambda x: 'UPI' if x in ['UPI', 'upi', 'Upi', 'AmazonPay', 'paybalance', 'pay later', 'Online', 'Amazon Pay Later', 'UPI ', 'Amazon Credit', 'AmazonCredit'] else x)"
      ]
    },
    {
      "cell_type": "code",
      "execution_count": 35,
      "id": "6929bbb1",
      "metadata": {
        "id": "6929bbb1"
      },
      "outputs": [],
      "source": [
        "data['Mode']=data['Mode'].apply(lambda x: 'Credit Card' if x in ['Credit Card', 'Gift Card.Credit\\nCard', 'credit card', 'cash', 'Visa . 7538', 'Visa . 4745', 'Card Payment', 'Credit card'] else x)"
      ]
    },
    {
      "cell_type": "code",
      "execution_count": 36,
      "id": "1347c688",
      "metadata": {
        "id": "1347c688"
      },
      "outputs": [],
      "source": [
        "data['Mode']=data['Mode'].apply(lambda x: 'Debit Card' if x in ['Debit Card', 'Netbanking', 'DEbit Card', 'debit card', 'Debit card', 'Debit', 'MasterCard . 2043', 'MasterCard . 2513', 'MasterCard . 2825', 'MasterCard . 6523', 'MasterCard . 9824', 'MasterCard . 1238', 'Debit Debit Card', 'Card'] else x)"
      ]
    },
    {
      "cell_type": "code",
      "execution_count": 37,
      "id": "d1c3a2ca",
      "metadata": {
        "id": "d1c3a2ca"
      },
      "outputs": [],
      "source": [
        "data['Mode']=data['Mode'].apply(lambda x: 'Cash' if x in ['Cash', '.', 'COD', 'CoD', 'cod'] else x)"
      ]
    },
    {
      "cell_type": "code",
      "execution_count": 38,
      "id": "46ab6807",
      "metadata": {
        "id": "46ab6807"
      },
      "outputs": [],
      "source": [
        "data['Mode']=data['Mode'].apply(lambda x: 'Gift Card' if x not in ['UPI', 'Credit Card', 'Debit Card', 'Cash'] else x)"
      ]
    },
    {
      "cell_type": "code",
      "execution_count": 39,
      "id": "6ba53e95",
      "metadata": {
        "id": "6ba53e95"
      },
      "outputs": [],
      "source": [
        "data['Dtemp1'] =  pd.to_datetime(data['Date'], errors='coerce', format='%m.%d.%Y')\n",
        "data['Dtemp2'] =  pd.to_datetime(data['Date'], errors='coerce', format='%d.%m.%Y')\n",
        "data['Date']=data['Dtemp1'].fillna(data['Dtemp2'])\n",
        "data.drop(['Dtemp1','Dtemp2'], axis=1, inplace=True)"
      ]
    },
    {
      "cell_type": "code",
      "execution_count": 40,
      "id": "5f213acc",
      "metadata": {
        "id": "5f213acc"
      },
      "outputs": [],
      "source": [
        "data['Weekday'] = data['Date'].dt.dayofweek\n",
        "data['Month'] = data['Date'].dt.month\n",
        "data['Weekday'] = data['Weekday'].replace({0:'Monday', 1:'Tuesday', 2:'Wednesday', 3:'Thursday', 4:'Friday', 5:'Saturday', 6:'Sunday'})\n",
        "data['Month'] = data['Month'].replace({1:'January', 2:'February', 3:'March', 4:'April', 5:'May', 6:'June', 7:'July', 8:'August', 9:'September', 10:'October', 11:'November', 12:'December'})"
      ]
    },
    {
      "cell_type": "code",
      "source": [
        "data['Age']=data['Age'].astype('int')"
      ],
      "metadata": {
        "id": "MrUeLx4FLsG4"
      },
      "id": "MrUeLx4FLsG4",
      "execution_count": 41,
      "outputs": []
    },
    {
      "cell_type": "code",
      "execution_count": 42,
      "id": "72178fd7",
      "metadata": {
        "colab": {
          "base_uri": "https://localhost:8080/",
          "height": 677
        },
        "id": "72178fd7",
        "outputId": "a24ff187-34f1-4abd-a558-6f4587877ddd"
      },
      "outputs": [
        {
          "output_type": "execute_result",
          "data": {
            "text/plain": [
              "         Date                               Product             Brand  \\\n",
              "0  2022-10-28  Camlin Kokuyo White Board Marker Ink            Camlin   \n",
              "1  2022-10-23                   Men's Shoes (Black)            Adidas   \n",
              "2  2022-10-21                          Water Bottle            Milton   \n",
              "3  2022-10-21                           Conditioner  Head & Shoulders   \n",
              "4  2022-10-21                              Suitcase         Kamiliant   \n",
              "5  2022-10-21                              Handwash            Savlon   \n",
              "6  2022-08-20                               Racquet             Yonex   \n",
              "7  2022-08-20                        Accessory Cock             Yonex   \n",
              "8  2022-08-16                                 Razor          Gillette   \n",
              "9  2022-03-08                              Umbrella             Fendo   \n",
              "10 2022-10-28                               Charger         Speedster   \n",
              "11 2022-10-20                        Tempered Glass       Double Dice   \n",
              "12 2022-10-18                               Candles            Solimo   \n",
              "13 2022-09-10                             Palm Tree   Creative Farmer   \n",
              "14 2022-01-10                             Redmi 10A            Xiaomi   \n",
              "15 2022-09-28                               Dialpad              Boat   \n",
              "16 2022-09-27                            Galaxy M13           Samsung   \n",
              "17 2022-09-26                          Hand Gripper            Aurion   \n",
              "18 2022-09-22                                 Mouse           Redgear   \n",
              "19 2022-02-09                       Washing Machine         Whirlpool   \n",
              "\n",
              "                Category  Quantity  Unit Price  Shipping Charges  Total Price  \\\n",
              "0           Stationeries       3.0       31.24               0.0        105.0   \n",
              "1   Clothing and Fashion       1.0     1211.02               0.0       1429.0   \n",
              "2               Cookware       1.0      702.86               0.0        738.0   \n",
              "3       Personal Hygiene       1.0      127.00               0.0        150.0   \n",
              "4           Stationeries       1.0     1778.00               0.0       2099.0   \n",
              "5       Personal Hygiene       1.0      148.00               0.0        175.0   \n",
              "6     Sports and Fitness       1.0      847.00               0.0        949.0   \n",
              "7     Sports and Fitness       1.0      356.00               0.0        399.0   \n",
              "8       Personal Hygiene       1.0      201.00               0.0        218.0   \n",
              "9                 Others       1.0      279.00               0.0        313.0   \n",
              "10           Electronics       1.0      550.00               0.0        649.0   \n",
              "11           Electronics       1.0      126.00               0.0        149.0   \n",
              "12                Others       1.0      400.00               0.0        309.0   \n",
              "13                Others       1.0       99.00               0.0         99.0   \n",
              "14           Electronics       1.0     7287.00               0.0       7774.0   \n",
              "15           Electronics       1.0     2541.00               0.0       2999.0   \n",
              "16           Electronics       1.0     8050.00               0.0       9499.0   \n",
              "17    Sports and Fitness       1.0      126.00               0.0        149.0   \n",
              "18           Electronics       1.0      380.00               0.0        299.0   \n",
              "19           Electronics       1.0    12703.00               0.0      14990.0   \n",
              "\n",
              "   Billing Address Seller Address Shipping Address Gender  Age         Mode  \\\n",
              "0        bangalore      bangalore        bangalore      M   24          UPI   \n",
              "1          saharsa        saharsa          saharsa      M   51          UPI   \n",
              "2        bangalore      bangalore        bangalore      M   24          UPI   \n",
              "3        bangalore      bangalore        bangalore      M   24          UPI   \n",
              "4           purnia         purnia           purnia      M   27          UPI   \n",
              "5        bangalore      bangalore        bangalore      M   24          UPI   \n",
              "6        bangalore      bangalore        bangalore      M   24          UPI   \n",
              "7        bangalore      bangalore        bangalore      M   24          UPI   \n",
              "8        bangalore      bangalore        bangalore      M   24          UPI   \n",
              "9        bangalore      bangalore        bangalore      M   24          UPI   \n",
              "10       bangalore      bangalore        bangalore      M   22          UPI   \n",
              "11       bangalore      bangalore        bangalore      M   22          UPI   \n",
              "12       bangalore      bangalore        bangalore      M   22          UPI   \n",
              "13       bangalore      bangalore        bangalore      M   22          UPI   \n",
              "14       bangalore      bangalore        bangalore      M   22          UPI   \n",
              "15       bangalore      bangalore        bangalore      M   22          UPI   \n",
              "16       bangalore      bangalore        bangalore      M   22          UPI   \n",
              "17       bangalore      bangalore        bangalore      M   22          UPI   \n",
              "18       bangalore      bangalore        bangalore      M   22          UPI   \n",
              "19       bangalore      bangalore        bangalore      M   22  Credit Card   \n",
              "\n",
              "   Prime  City Tiers (Customer)  City Tiers (Seller)    Weekday      Month  \n",
              "0    Yes                      1                    1     Friday    October  \n",
              "1    Yes                      3                    3     Sunday    October  \n",
              "2    Yes                      1                    1     Friday    October  \n",
              "3    Yes                      1                    1     Friday    October  \n",
              "4    Yes                      3                    3     Friday    October  \n",
              "5    Yes                      1                    1     Friday    October  \n",
              "6    Yes                      1                    1   Saturday     August  \n",
              "7    Yes                      1                    1   Saturday     August  \n",
              "8    Yes                      1                    1    Tuesday     August  \n",
              "9    Yes                      1                    1    Tuesday      March  \n",
              "10   Yes                      1                    1     Friday    October  \n",
              "11   Yes                      1                    1   Thursday    October  \n",
              "12   Yes                      1                    1    Tuesday    October  \n",
              "13   Yes                      1                    1   Saturday  September  \n",
              "14   Yes                      1                    1     Monday    January  \n",
              "15   Yes                      1                    1  Wednesday  September  \n",
              "16   Yes                      1                    1    Tuesday  September  \n",
              "17   Yes                      1                    1     Monday  September  \n",
              "18   Yes                      1                    1   Thursday  September  \n",
              "19   Yes                      1                    1  Wednesday   February  "
            ],
            "text/html": [
              "<div>\n",
              "<style scoped>\n",
              "    .dataframe tbody tr th:only-of-type {\n",
              "        vertical-align: middle;\n",
              "    }\n",
              "\n",
              "    .dataframe tbody tr th {\n",
              "        vertical-align: top;\n",
              "    }\n",
              "\n",
              "    .dataframe thead th {\n",
              "        text-align: right;\n",
              "    }\n",
              "</style>\n",
              "<table border=\"1\" class=\"dataframe\">\n",
              "  <thead>\n",
              "    <tr style=\"text-align: right;\">\n",
              "      <th></th>\n",
              "      <th>Date</th>\n",
              "      <th>Product</th>\n",
              "      <th>Brand</th>\n",
              "      <th>Category</th>\n",
              "      <th>Quantity</th>\n",
              "      <th>Unit Price</th>\n",
              "      <th>Shipping Charges</th>\n",
              "      <th>Total Price</th>\n",
              "      <th>Billing Address</th>\n",
              "      <th>Seller Address</th>\n",
              "      <th>Shipping Address</th>\n",
              "      <th>Gender</th>\n",
              "      <th>Age</th>\n",
              "      <th>Mode</th>\n",
              "      <th>Prime</th>\n",
              "      <th>City Tiers (Customer)</th>\n",
              "      <th>City Tiers (Seller)</th>\n",
              "      <th>Weekday</th>\n",
              "      <th>Month</th>\n",
              "    </tr>\n",
              "  </thead>\n",
              "  <tbody>\n",
              "    <tr>\n",
              "      <th>0</th>\n",
              "      <td>2022-10-28</td>\n",
              "      <td>Camlin Kokuyo White Board Marker Ink</td>\n",
              "      <td>Camlin</td>\n",
              "      <td>Stationeries</td>\n",
              "      <td>3.0</td>\n",
              "      <td>31.24</td>\n",
              "      <td>0.0</td>\n",
              "      <td>105.0</td>\n",
              "      <td>bangalore</td>\n",
              "      <td>bangalore</td>\n",
              "      <td>bangalore</td>\n",
              "      <td>M</td>\n",
              "      <td>24</td>\n",
              "      <td>UPI</td>\n",
              "      <td>Yes</td>\n",
              "      <td>1</td>\n",
              "      <td>1</td>\n",
              "      <td>Friday</td>\n",
              "      <td>October</td>\n",
              "    </tr>\n",
              "    <tr>\n",
              "      <th>1</th>\n",
              "      <td>2022-10-23</td>\n",
              "      <td>Men's Shoes (Black)</td>\n",
              "      <td>Adidas</td>\n",
              "      <td>Clothing and Fashion</td>\n",
              "      <td>1.0</td>\n",
              "      <td>1211.02</td>\n",
              "      <td>0.0</td>\n",
              "      <td>1429.0</td>\n",
              "      <td>saharsa</td>\n",
              "      <td>saharsa</td>\n",
              "      <td>saharsa</td>\n",
              "      <td>M</td>\n",
              "      <td>51</td>\n",
              "      <td>UPI</td>\n",
              "      <td>Yes</td>\n",
              "      <td>3</td>\n",
              "      <td>3</td>\n",
              "      <td>Sunday</td>\n",
              "      <td>October</td>\n",
              "    </tr>\n",
              "    <tr>\n",
              "      <th>2</th>\n",
              "      <td>2022-10-21</td>\n",
              "      <td>Water Bottle</td>\n",
              "      <td>Milton</td>\n",
              "      <td>Cookware</td>\n",
              "      <td>1.0</td>\n",
              "      <td>702.86</td>\n",
              "      <td>0.0</td>\n",
              "      <td>738.0</td>\n",
              "      <td>bangalore</td>\n",
              "      <td>bangalore</td>\n",
              "      <td>bangalore</td>\n",
              "      <td>M</td>\n",
              "      <td>24</td>\n",
              "      <td>UPI</td>\n",
              "      <td>Yes</td>\n",
              "      <td>1</td>\n",
              "      <td>1</td>\n",
              "      <td>Friday</td>\n",
              "      <td>October</td>\n",
              "    </tr>\n",
              "    <tr>\n",
              "      <th>3</th>\n",
              "      <td>2022-10-21</td>\n",
              "      <td>Conditioner</td>\n",
              "      <td>Head &amp; Shoulders</td>\n",
              "      <td>Personal Hygiene</td>\n",
              "      <td>1.0</td>\n",
              "      <td>127.00</td>\n",
              "      <td>0.0</td>\n",
              "      <td>150.0</td>\n",
              "      <td>bangalore</td>\n",
              "      <td>bangalore</td>\n",
              "      <td>bangalore</td>\n",
              "      <td>M</td>\n",
              "      <td>24</td>\n",
              "      <td>UPI</td>\n",
              "      <td>Yes</td>\n",
              "      <td>1</td>\n",
              "      <td>1</td>\n",
              "      <td>Friday</td>\n",
              "      <td>October</td>\n",
              "    </tr>\n",
              "    <tr>\n",
              "      <th>4</th>\n",
              "      <td>2022-10-21</td>\n",
              "      <td>Suitcase</td>\n",
              "      <td>Kamiliant</td>\n",
              "      <td>Stationeries</td>\n",
              "      <td>1.0</td>\n",
              "      <td>1778.00</td>\n",
              "      <td>0.0</td>\n",
              "      <td>2099.0</td>\n",
              "      <td>purnia</td>\n",
              "      <td>purnia</td>\n",
              "      <td>purnia</td>\n",
              "      <td>M</td>\n",
              "      <td>27</td>\n",
              "      <td>UPI</td>\n",
              "      <td>Yes</td>\n",
              "      <td>3</td>\n",
              "      <td>3</td>\n",
              "      <td>Friday</td>\n",
              "      <td>October</td>\n",
              "    </tr>\n",
              "    <tr>\n",
              "      <th>5</th>\n",
              "      <td>2022-10-21</td>\n",
              "      <td>Handwash</td>\n",
              "      <td>Savlon</td>\n",
              "      <td>Personal Hygiene</td>\n",
              "      <td>1.0</td>\n",
              "      <td>148.00</td>\n",
              "      <td>0.0</td>\n",
              "      <td>175.0</td>\n",
              "      <td>bangalore</td>\n",
              "      <td>bangalore</td>\n",
              "      <td>bangalore</td>\n",
              "      <td>M</td>\n",
              "      <td>24</td>\n",
              "      <td>UPI</td>\n",
              "      <td>Yes</td>\n",
              "      <td>1</td>\n",
              "      <td>1</td>\n",
              "      <td>Friday</td>\n",
              "      <td>October</td>\n",
              "    </tr>\n",
              "    <tr>\n",
              "      <th>6</th>\n",
              "      <td>2022-08-20</td>\n",
              "      <td>Racquet</td>\n",
              "      <td>Yonex</td>\n",
              "      <td>Sports and Fitness</td>\n",
              "      <td>1.0</td>\n",
              "      <td>847.00</td>\n",
              "      <td>0.0</td>\n",
              "      <td>949.0</td>\n",
              "      <td>bangalore</td>\n",
              "      <td>bangalore</td>\n",
              "      <td>bangalore</td>\n",
              "      <td>M</td>\n",
              "      <td>24</td>\n",
              "      <td>UPI</td>\n",
              "      <td>Yes</td>\n",
              "      <td>1</td>\n",
              "      <td>1</td>\n",
              "      <td>Saturday</td>\n",
              "      <td>August</td>\n",
              "    </tr>\n",
              "    <tr>\n",
              "      <th>7</th>\n",
              "      <td>2022-08-20</td>\n",
              "      <td>Accessory Cock</td>\n",
              "      <td>Yonex</td>\n",
              "      <td>Sports and Fitness</td>\n",
              "      <td>1.0</td>\n",
              "      <td>356.00</td>\n",
              "      <td>0.0</td>\n",
              "      <td>399.0</td>\n",
              "      <td>bangalore</td>\n",
              "      <td>bangalore</td>\n",
              "      <td>bangalore</td>\n",
              "      <td>M</td>\n",
              "      <td>24</td>\n",
              "      <td>UPI</td>\n",
              "      <td>Yes</td>\n",
              "      <td>1</td>\n",
              "      <td>1</td>\n",
              "      <td>Saturday</td>\n",
              "      <td>August</td>\n",
              "    </tr>\n",
              "    <tr>\n",
              "      <th>8</th>\n",
              "      <td>2022-08-16</td>\n",
              "      <td>Razor</td>\n",
              "      <td>Gillette</td>\n",
              "      <td>Personal Hygiene</td>\n",
              "      <td>1.0</td>\n",
              "      <td>201.00</td>\n",
              "      <td>0.0</td>\n",
              "      <td>218.0</td>\n",
              "      <td>bangalore</td>\n",
              "      <td>bangalore</td>\n",
              "      <td>bangalore</td>\n",
              "      <td>M</td>\n",
              "      <td>24</td>\n",
              "      <td>UPI</td>\n",
              "      <td>Yes</td>\n",
              "      <td>1</td>\n",
              "      <td>1</td>\n",
              "      <td>Tuesday</td>\n",
              "      <td>August</td>\n",
              "    </tr>\n",
              "    <tr>\n",
              "      <th>9</th>\n",
              "      <td>2022-03-08</td>\n",
              "      <td>Umbrella</td>\n",
              "      <td>Fendo</td>\n",
              "      <td>Others</td>\n",
              "      <td>1.0</td>\n",
              "      <td>279.00</td>\n",
              "      <td>0.0</td>\n",
              "      <td>313.0</td>\n",
              "      <td>bangalore</td>\n",
              "      <td>bangalore</td>\n",
              "      <td>bangalore</td>\n",
              "      <td>M</td>\n",
              "      <td>24</td>\n",
              "      <td>UPI</td>\n",
              "      <td>Yes</td>\n",
              "      <td>1</td>\n",
              "      <td>1</td>\n",
              "      <td>Tuesday</td>\n",
              "      <td>March</td>\n",
              "    </tr>\n",
              "    <tr>\n",
              "      <th>10</th>\n",
              "      <td>2022-10-28</td>\n",
              "      <td>Charger</td>\n",
              "      <td>Speedster</td>\n",
              "      <td>Electronics</td>\n",
              "      <td>1.0</td>\n",
              "      <td>550.00</td>\n",
              "      <td>0.0</td>\n",
              "      <td>649.0</td>\n",
              "      <td>bangalore</td>\n",
              "      <td>bangalore</td>\n",
              "      <td>bangalore</td>\n",
              "      <td>M</td>\n",
              "      <td>22</td>\n",
              "      <td>UPI</td>\n",
              "      <td>Yes</td>\n",
              "      <td>1</td>\n",
              "      <td>1</td>\n",
              "      <td>Friday</td>\n",
              "      <td>October</td>\n",
              "    </tr>\n",
              "    <tr>\n",
              "      <th>11</th>\n",
              "      <td>2022-10-20</td>\n",
              "      <td>Tempered Glass</td>\n",
              "      <td>Double Dice</td>\n",
              "      <td>Electronics</td>\n",
              "      <td>1.0</td>\n",
              "      <td>126.00</td>\n",
              "      <td>0.0</td>\n",
              "      <td>149.0</td>\n",
              "      <td>bangalore</td>\n",
              "      <td>bangalore</td>\n",
              "      <td>bangalore</td>\n",
              "      <td>M</td>\n",
              "      <td>22</td>\n",
              "      <td>UPI</td>\n",
              "      <td>Yes</td>\n",
              "      <td>1</td>\n",
              "      <td>1</td>\n",
              "      <td>Thursday</td>\n",
              "      <td>October</td>\n",
              "    </tr>\n",
              "    <tr>\n",
              "      <th>12</th>\n",
              "      <td>2022-10-18</td>\n",
              "      <td>Candles</td>\n",
              "      <td>Solimo</td>\n",
              "      <td>Others</td>\n",
              "      <td>1.0</td>\n",
              "      <td>400.00</td>\n",
              "      <td>0.0</td>\n",
              "      <td>309.0</td>\n",
              "      <td>bangalore</td>\n",
              "      <td>bangalore</td>\n",
              "      <td>bangalore</td>\n",
              "      <td>M</td>\n",
              "      <td>22</td>\n",
              "      <td>UPI</td>\n",
              "      <td>Yes</td>\n",
              "      <td>1</td>\n",
              "      <td>1</td>\n",
              "      <td>Tuesday</td>\n",
              "      <td>October</td>\n",
              "    </tr>\n",
              "    <tr>\n",
              "      <th>13</th>\n",
              "      <td>2022-09-10</td>\n",
              "      <td>Palm Tree</td>\n",
              "      <td>Creative Farmer</td>\n",
              "      <td>Others</td>\n",
              "      <td>1.0</td>\n",
              "      <td>99.00</td>\n",
              "      <td>0.0</td>\n",
              "      <td>99.0</td>\n",
              "      <td>bangalore</td>\n",
              "      <td>bangalore</td>\n",
              "      <td>bangalore</td>\n",
              "      <td>M</td>\n",
              "      <td>22</td>\n",
              "      <td>UPI</td>\n",
              "      <td>Yes</td>\n",
              "      <td>1</td>\n",
              "      <td>1</td>\n",
              "      <td>Saturday</td>\n",
              "      <td>September</td>\n",
              "    </tr>\n",
              "    <tr>\n",
              "      <th>14</th>\n",
              "      <td>2022-01-10</td>\n",
              "      <td>Redmi 10A</td>\n",
              "      <td>Xiaomi</td>\n",
              "      <td>Electronics</td>\n",
              "      <td>1.0</td>\n",
              "      <td>7287.00</td>\n",
              "      <td>0.0</td>\n",
              "      <td>7774.0</td>\n",
              "      <td>bangalore</td>\n",
              "      <td>bangalore</td>\n",
              "      <td>bangalore</td>\n",
              "      <td>M</td>\n",
              "      <td>22</td>\n",
              "      <td>UPI</td>\n",
              "      <td>Yes</td>\n",
              "      <td>1</td>\n",
              "      <td>1</td>\n",
              "      <td>Monday</td>\n",
              "      <td>January</td>\n",
              "    </tr>\n",
              "    <tr>\n",
              "      <th>15</th>\n",
              "      <td>2022-09-28</td>\n",
              "      <td>Dialpad</td>\n",
              "      <td>Boat</td>\n",
              "      <td>Electronics</td>\n",
              "      <td>1.0</td>\n",
              "      <td>2541.00</td>\n",
              "      <td>0.0</td>\n",
              "      <td>2999.0</td>\n",
              "      <td>bangalore</td>\n",
              "      <td>bangalore</td>\n",
              "      <td>bangalore</td>\n",
              "      <td>M</td>\n",
              "      <td>22</td>\n",
              "      <td>UPI</td>\n",
              "      <td>Yes</td>\n",
              "      <td>1</td>\n",
              "      <td>1</td>\n",
              "      <td>Wednesday</td>\n",
              "      <td>September</td>\n",
              "    </tr>\n",
              "    <tr>\n",
              "      <th>16</th>\n",
              "      <td>2022-09-27</td>\n",
              "      <td>Galaxy M13</td>\n",
              "      <td>Samsung</td>\n",
              "      <td>Electronics</td>\n",
              "      <td>1.0</td>\n",
              "      <td>8050.00</td>\n",
              "      <td>0.0</td>\n",
              "      <td>9499.0</td>\n",
              "      <td>bangalore</td>\n",
              "      <td>bangalore</td>\n",
              "      <td>bangalore</td>\n",
              "      <td>M</td>\n",
              "      <td>22</td>\n",
              "      <td>UPI</td>\n",
              "      <td>Yes</td>\n",
              "      <td>1</td>\n",
              "      <td>1</td>\n",
              "      <td>Tuesday</td>\n",
              "      <td>September</td>\n",
              "    </tr>\n",
              "    <tr>\n",
              "      <th>17</th>\n",
              "      <td>2022-09-26</td>\n",
              "      <td>Hand Gripper</td>\n",
              "      <td>Aurion</td>\n",
              "      <td>Sports and Fitness</td>\n",
              "      <td>1.0</td>\n",
              "      <td>126.00</td>\n",
              "      <td>0.0</td>\n",
              "      <td>149.0</td>\n",
              "      <td>bangalore</td>\n",
              "      <td>bangalore</td>\n",
              "      <td>bangalore</td>\n",
              "      <td>M</td>\n",
              "      <td>22</td>\n",
              "      <td>UPI</td>\n",
              "      <td>Yes</td>\n",
              "      <td>1</td>\n",
              "      <td>1</td>\n",
              "      <td>Monday</td>\n",
              "      <td>September</td>\n",
              "    </tr>\n",
              "    <tr>\n",
              "      <th>18</th>\n",
              "      <td>2022-09-22</td>\n",
              "      <td>Mouse</td>\n",
              "      <td>Redgear</td>\n",
              "      <td>Electronics</td>\n",
              "      <td>1.0</td>\n",
              "      <td>380.00</td>\n",
              "      <td>0.0</td>\n",
              "      <td>299.0</td>\n",
              "      <td>bangalore</td>\n",
              "      <td>bangalore</td>\n",
              "      <td>bangalore</td>\n",
              "      <td>M</td>\n",
              "      <td>22</td>\n",
              "      <td>UPI</td>\n",
              "      <td>Yes</td>\n",
              "      <td>1</td>\n",
              "      <td>1</td>\n",
              "      <td>Thursday</td>\n",
              "      <td>September</td>\n",
              "    </tr>\n",
              "    <tr>\n",
              "      <th>19</th>\n",
              "      <td>2022-02-09</td>\n",
              "      <td>Washing Machine</td>\n",
              "      <td>Whirlpool</td>\n",
              "      <td>Electronics</td>\n",
              "      <td>1.0</td>\n",
              "      <td>12703.00</td>\n",
              "      <td>0.0</td>\n",
              "      <td>14990.0</td>\n",
              "      <td>bangalore</td>\n",
              "      <td>bangalore</td>\n",
              "      <td>bangalore</td>\n",
              "      <td>M</td>\n",
              "      <td>22</td>\n",
              "      <td>Credit Card</td>\n",
              "      <td>Yes</td>\n",
              "      <td>1</td>\n",
              "      <td>1</td>\n",
              "      <td>Wednesday</td>\n",
              "      <td>February</td>\n",
              "    </tr>\n",
              "  </tbody>\n",
              "</table>\n",
              "</div>"
            ]
          },
          "metadata": {},
          "execution_count": 42
        }
      ],
      "source": [
        "data.head(20)"
      ]
    },
    {
      "cell_type": "code",
      "execution_count": 43,
      "id": "f1461083",
      "metadata": {
        "id": "f1461083"
      },
      "outputs": [],
      "source": [
        "data.reset_index(drop=True, inplace=True)\n",
        "data.to_csv('D:/Workspace/Projects/MarketDataAnalytics/clean.csv')"
      ]
    }
  ],
  "metadata": {
    "kernelspec": {
      "display_name": "Python 3 (ipykernel)",
      "language": "python",
      "name": "python3"
    },
    "language_info": {
      "codemirror_mode": {
        "name": "ipython",
        "version": 3
      },
      "file_extension": ".py",
      "mimetype": "text/x-python",
      "name": "python",
      "nbconvert_exporter": "python",
      "pygments_lexer": "ipython3",
      "version": "3.9.12"
    },
    "colab": {
      "provenance": [],
      "include_colab_link": true
    }
  },
  "nbformat": 4,
  "nbformat_minor": 5
}